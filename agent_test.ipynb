{
 "cells": [
  {
   "cell_type": "markdown",
   "metadata": {},
   "source": [
    "# Agent Testing Notebook\n",
    "\n",
    "This notebook tests individual modules from agent.py. \n",
    "\n",
    "**Workflow**: \n",
    "1. Modify agent.py functions\n",
    "2. Run the reload cell below\n",
    "3. Run individual test cells to validate changes"
   ]
  },
  {
   "cell_type": "markdown",
   "metadata": {},
   "source": [
    "## Setup Configuration"
   ]
  },
  {
   "cell_type": "code",
   "execution_count": 144,
   "metadata": {},
   "outputs": [
    {
     "name": "stdout",
     "output_type": "stream",
     "text": [
      "Agent module reloaded successfully!\n",
      "SMALL_MODEL: openrouter/google/gemini-2.5-flash-lite-preview-06-17\n",
      "BIG_MODEL: openrouter/openai/gpt-4.1-mini\n",
      "TEMPERATURE: 1.0\n",
      "MAX_TOKENS: 4000\n",
      "\n",
      "Configuration complete!\n"
     ]
    }
   ],
   "source": [
    "# Setup environment and configuration\n",
    "import os\n",
    "from dotenv import load_dotenv\n",
    "import dspy\n",
    "import logging\n",
    "import importlib\n",
    "import agent\n",
    "from agent import *\n",
    "\n",
    "load_dotenv(override=True)\n",
    "\n",
    "# Reload agent.py after making changes\n",
    "importlib.reload(agent)\n",
    "print(\"Agent module reloaded successfully!\")\n",
    "\n",
    "# Disable verbose DSPy and LiteLLM outputs\n",
    "dspy.settings.configure(show_guidelines=False, show_messages=False, show_cot=False)\n",
    "logging.getLogger(\"LiteLLM\").setLevel(logging.WARNING)\n",
    "\n",
    "# Print configuration\n",
    "print(f\"SMALL_MODEL: {SMALL_MODEL}\")\n",
    "print(f\"BIG_MODEL: {BIG_MODEL}\")\n",
    "print(f\"TEMPERATURE: {TEMPERATURE}\")\n",
    "print(f\"MAX_TOKENS: {MAX_TOKENS}\")\n",
    "\n",
    "# Configure DSPy default\n",
    "default_lm = dspy.LM(\n",
    "    model=SMALL_MODEL,\n",
    "    api_key=OPENROUTER_API_KEY,\n",
    "    api_base=OPENROUTER_BASE_URL,\n",
    "    temperature=TEMPERATURE,\n",
    "    max_tokens=MAX_TOKENS\n",
    ")\n",
    "dspy.configure(lm=default_lm)\n",
    "lead_agent = AsyncLeadAgent()\n",
    "\n",
    "print(\"\\nConfiguration complete!\")"
   ]
  },
  {
   "cell_type": "markdown",
   "metadata": {},
   "source": [
    "## Test Individual Async Tools"
   ]
  },
  {
   "cell_type": "code",
   "execution_count": 136,
   "metadata": {},
   "outputs": [
    {
     "name": "stdout",
     "output_type": "stream",
     "text": [
      "=== Web Search Test ===\n",
      "Search results for 'DSPy framework':\\n\\n1. GitHub - stanfordnlp/dspy: DSPy: The framework for programming—not prompting—language models\\n   <strong>DSPy</strong>: <strong>The</strong> <strong>framework</strong> for programming—not prompting—language models - stanfordnlp/<strong>dspy</strong>\\n   https://github.com/stanfordnlp/dspy\\n\\n2. DSPy\\n   <strong>DSPy</strong> is a declarative <strong>framework</strong> for building modular AI software.\\n   https://dspy.ai/\n"
     ]
    }
   ],
   "source": [
    "# Test web_search\n",
    "result = await web_search(\"DSPy framework\", count=2)\n",
    "print(\"=== Web Search Test ===\")\n",
    "print(result)"
   ]
  },
  {
   "cell_type": "code",
   "execution_count": 137,
   "metadata": {},
   "outputs": [
    {
     "name": "stdout",
     "output_type": "stream",
     "text": [
      "=== Wikipedia Search Test ===\n",
      "Wikipedia – Python (programming language)\\n\\nPython is a high-level, general-purpose programming language. Its design philosophy emphasizes code readability with the use of significant indentation.\n",
      "Python is dynamically type-checked and garbage-collected.\n"
     ]
    }
   ],
   "source": [
    "# Test wikipedia_search\n",
    "result = wikipedia_search(\"Python programming\", sentences=3)\n",
    "print(\"=== Wikipedia Search Test ===\")\n",
    "print(result)"
   ]
  },
  {
   "cell_type": "code",
   "execution_count": 138,
   "metadata": {},
   "outputs": [
    {
     "name": "stdout",
     "output_type": "stream",
     "text": [
      "=== Async Batch Call Test ===\n",
      "\n",
      "Result 1:\n",
      "web_search: Search results for 'Lamine Yamal':\\n\\n1. Lamine Yamal - Wikipedia\\n   <strong>Lamine</strong> <strong>Yamal</strong> Nasraoui Ebana (born 13 July 2007) is a Spanish professional footballer...\n",
      "\n",
      "Result 2:\n",
      "wikipedia_search: Wikipedia – Désiré Doué\\n\\nDésiré Nonka-Maho Doué (French pronunciation: [deziʁe dwe]; born 3 June 2005) is a French professional footballer who plays as an attacking midfielder or w...\n"
     ]
    }
   ],
   "source": [
    "# Test async_batch_call\n",
    "calls = [\n",
    "    {\"tool_name\": \"web_search\", \"args\": {\"query\": \"Lamine Yamal\", \"count\": 2}},\n",
    "    {\"tool_name\": \"wikipedia_search\", \"args\": {\"query\": \"Desire Doue\", \"sentences\": 2}}\n",
    "]\n",
    "\n",
    "results = await async_batch_call(calls)\n",
    "print(\"=== Async Batch Call Test ===\")\n",
    "for i, result in enumerate(results):\n",
    "    print(f\"\\nResult {i+1}:\")\n",
    "    print(result[:200] + \"...\" if len(result) > 200 else result)"
   ]
  },
  {
   "cell_type": "markdown",
   "metadata": {},
   "source": [
    "# Test full AsyncLeadAgent workflow with decomposition"
   ]
  },
  {
   "cell_type": "code",
   "execution_count": 139,
   "metadata": {},
   "outputs": [
    {
     "name": "stdout",
     "output_type": "stream",
     "text": [
      "=== AsyncLeadAgent Query Analysis Test ===\n",
      "Query: Desire Doue vs Lamine Yamal, who is better?\n",
      "\n",
      "Analysis:\n",
      "Type: depth_first\n",
      "Complexity: complex\n",
      "Main Concepts: ['Player comparison', 'Football skills', 'Performance metrics', 'Potential']\n",
      "Key Entities: ['Desire Doue', 'Lamine Yamal']\n",
      "Answer Format: Comparative analysis highlighting strengths, weaknesses, and overall impact of each player.\n"
     ]
    }
   ],
   "source": [
    "# Test AsyncLeadAgent - Query Analysis\n",
    "test_query = \"Desire Doue vs Lamine Yamal, who is better?\"\n",
    "analysis_result = await lead_agent.query_analyzer.acall(query=test_query)\n",
    "\n",
    "print(\"=== AsyncLeadAgent Query Analysis Test ===\")\n",
    "print(f\"Query: {test_query}\")\n",
    "print(f\"\\nAnalysis:\")\n",
    "print(f\"Type: {analysis_result.analysis.query_type}\")\n",
    "print(f\"Complexity: {analysis_result.analysis.complexity}\")\n",
    "print(f\"Main Concepts: {analysis_result.analysis.main_concepts}\")\n",
    "print(f\"Key Entities: {analysis_result.analysis.key_entities}\")\n",
    "print(f\"Answer Format: {analysis_result.analysis.answer_format}\")"
   ]
  },
  {
   "cell_type": "code",
   "execution_count": 140,
   "metadata": {},
   "outputs": [
    {
     "name": "stdout",
     "output_type": "stream",
     "text": [
      "=== AsyncLeadAgent Research Planning Test ===\n",
      "Reasoning: The user wants to know who is better between Desire Doue and Lamine Yamal. The analysis indicates a need for a comparative analysis based on various factors like current performance, potential, playing style, statistics, strengths, and weaknesses.\n",
      "\n",
      "I have already gathered initial statistics and playing style information in previous steps. Now, I need to extract specific performance metrics (goals, assists, key passes, etc.), detailed playing styles, identified strengths and weaknesses, and market values for both players for the 2023-2024 season from the most reliable sources (WhoScored, FBref, Fotmob).\n",
      "\n",
      "The plan is to create a detailed comparison by executing the following steps:\n",
      "1.  For Desire Doue:\n",
      "    *   Extract his 2023-2024 season stats, playing style, strengths, and weaknesses from WhoScored.com.\n",
      "    *   Extract his 2023-2024 season stats, playing style, strengths, and weaknesses from FBref.com.\n",
      "    *   Extract his 2023-2024 season stats, playing style, strengths, and weaknesses from Fotmob.\n",
      "    *   Extract his market value from Fotmob.\n",
      "2.  For Lamine Yamal:\n",
      "    *   Extract his 2023-2024 season stats, playing style, strengths, and weaknesses from WhoScored.com.\n",
      "    *   Extract his 2023-2024 season stats, playing style, strengths, and weaknesses from FBref.com.\n",
      "    *   Extract his 2023-2024 season stats, playing style, strengths, and weaknesses from Fotmob.\n",
      "    *   Extract his market value from Fotmob.\n",
      "\n",
      "These aggregated details will allow for a comprehensive comparison to answer the user's query.\n",
      "Plan: id=0 description=\"Extract Desire Doue's 2023-2024 season stats, playing style, strengths, and weaknesses from WhoScored.com.\" depends_on=[] complexity_hint='medium'\n",
      "Plan: id=1 description=\"Extract Desire Doue's 2023-2024 season stats, playing style, strengths, and weaknesses from FBref.com.\" depends_on=[] complexity_hint='medium'\n",
      "Plan: id=2 description=\"Extract Desire Doue's 2023-2024 season stats, playing style, strengths, and weaknesses from Fotmob.\" depends_on=[] complexity_hint='medium'\n",
      "Plan: id=3 description=\"Extract Desire Doue's market value from Fotmob.\" depends_on=[] complexity_hint='simple'\n",
      "Plan: id=4 description=\"Extract Lamine Yamal's 2023-2024 season stats, playing style, strengths, and weaknesses from WhoScored.com.\" depends_on=[] complexity_hint='medium'\n",
      "Plan: id=5 description=\"Extract Lamine Yamal's 2023-2024 season stats, playing style, strengths, and weaknesses from FBref.com.\" depends_on=[] complexity_hint='medium'\n",
      "Plan: id=6 description=\"Extract Lamine Yamal's 2023-2024 season stats, playing style, strengths, and weaknesses from Fotmob.\" depends_on=[] complexity_hint='medium'\n",
      "Plan: id=7 description=\"Extract Lamine Yamal's market value from Fotmob.\" depends_on=[] complexity_hint='simple'\n"
     ]
    }
   ],
   "source": [
    "# Test AsyncLeadAgent - Research Planning\n",
    "# Use the analysis from the previous cell\n",
    "plan_result = await lead_agent.planner.acall(\n",
    "    query=test_query,\n",
    "    analysis=analysis_result.analysis\n",
    ")\n",
    "\n",
    "print(\"=== AsyncLeadAgent Research Planning Test ===\")\n",
    "print(f\"Reasoning: {plan_result.reasoning}\")\n",
    "for plan in plan_result.plans:\n",
    "    print(f\"Plan: {plan}\")\n",
    "\n",
    "\n",
    "    "
   ]
  },
  {
   "cell_type": "code",
   "execution_count": 141,
   "metadata": {},
   "outputs": [
    {
     "name": "stdout",
     "output_type": "stream",
     "text": [
      "=== DecomposeToTasks Test ===\n",
      "Strategy: Execute the following tasks to gather information about Desire Doue's performance.\n",
      "Max concurrent: 4\n",
      "\n",
      "Task 1 (Task 0): Gather Desire Doue's 2023-2024 season stats, playing style, strengths, and weaknesses from WhoScored.com.\n",
      "  Tools: ['web_search']\n",
      "  Budget: 8 | Complexity: medium\n"
     ]
    }
   ],
   "source": [
    "decompose_result = await lead_agent.decomposer.acall(\n",
    "    query=test_query,\n",
    "    completed_results=[],\n",
    "    plans=plan_result.plans,\n",
    "    current_step=plan_result.plans[0]\n",
    ")\n",
    "\n",
    "print(\"=== DecomposeToTasks Test ===\")\n",
    "print(f\"Strategy: {decompose_result.allocation.execution_strategy}\")\n",
    "print(f\"Max concurrent: {decompose_result.allocation.max_concurrent}\")\n",
    "\n",
    "for i, task in enumerate(decompose_result.allocation.tasks):\n",
    "    print(f\"\\nTask {i+1} (Task {task.id}): {task.description}\")\n",
    "    print(f\"  Tools: {task.tools_to_use}\")\n",
    "    print(f\"  Budget: {task.tool_budget} | Complexity: {task.complexity}\")"
   ]
  },
  {
   "cell_type": "code",
   "execution_count": 159,
   "metadata": {},
   "outputs": [],
   "source": [
    "analysis, research_plan, allocation, subagent_results = await lead_agent.aforward(query=test_query)"
   ]
  },
  {
   "cell_type": "code",
   "execution_count": 164,
   "metadata": {},
   "outputs": [
    {
     "name": "stdout",
     "output_type": "stream",
     "text": [
      "=== AsyncLeadAgent Test ===\n",
      "Query: Desire Doue vs Lamine Yamal, who is better?\n",
      "Analysis: query_type='depth_first' complexity='complex' main_concepts=['Player comparison', 'Football skills', 'Performance metrics', 'Potential'] key_entities=['Desire Doue', 'Lamine Yamal'] relationships=['Desire Doue vs Lamine Yamal'] notes=\"The term 'better' is subjective and can be interpreted based on various factors like current performance, potential, playing style, statistics, etc. The response should consider multiple facets of comparison.\" answer_format='Comparative analysis highlighting strengths, weaknesses, and overall impact of each player.'\n",
      "Research Plan: \n",
      "Plan: id=1 description=\"Extract Desire Doue's 2023-2024 season stats, playing style, strengths, and weaknesses from FBref.com.\" depends_on=[] complexity_hint='medium'\n",
      "Plan: id=2 description=\"Extract Desire Doue's 2023-2024 season stats, playing style, strengths, and weaknesses from Fotmob.\" depends_on=[] complexity_hint='medium'\n",
      "Plan: id=3 description=\"Extract Desire Doue's market value from Fotmob.\" depends_on=[] complexity_hint='simple'\n",
      "Plan: id=4 description=\"Extract Lamine Yamal's 2023-2024 season stats, playing style, strengths, and weaknesses from WhoScored.com.\" depends_on=[] complexity_hint='medium'\n",
      "Plan: id=5 description=\"Extract Lamine Yamal's 2023-2024 season stats, playing style, strengths, and weaknesses from FBref.com.\" depends_on=[] complexity_hint='medium'\n",
      "Plan: id=6 description=\"Extract Lamine Yamal's 2023-2024 season stats, playing style, strengths, and weaknesses from Fotmob.\" depends_on=[] complexity_hint='medium'\n",
      "Plan: id=7 description=\"Extract Lamine Yamal's market value from Fotmob.\" depends_on=[] complexity_hint='simple'\n",
      "Allocation: \n",
      "Task: Extract Desire Doue's 2023-2024 season stats, playing style, strengths, and weaknesses from WhoScored.com.\n",
      "Tools: ['web_search', 'wikipedia_search', 'parallel_search']\n",
      "Budget: 8\n",
      "Complexity: medium\n",
      "Depends On: []\n",
      "Subagent Results: \n",
      "Task ID: 0\n",
      "Summary: Identified the WhoScored.com player profile page for Desire Doue as the source of the required information.\n",
      "Finding: The WhoScored.com profile for Désiré Doué has been identified as the relevant source for his 2023-2024 season stats, playing style, strengths, and weaknesses. The task can now be completed.\n",
      "Debug Info: ['web_search: Désiré Doué Football Statistics | WhoScored.com\\n   Désiré Doué statistics – 20 years_old Paris Saint-Germain Attacking Midfielder (Centre, Left, Right). Check out his latest detailed stats including goals, assists, strengths &amp; weaknesses and match ratings.\\n   https://www.whoscored.com/players/433183/show/d%C3%A9sir%C3%A9-dou%C3%A9']\n"
     ]
    }
   ],
   "source": [
    "print(\"=== AsyncLeadAgent Test ===\")\n",
    "print(f\"Query: {test_query}\")\n",
    "\n",
    "print(f\"Analysis: {analysis.analysis}\")\n",
    "print(f\"Research Plan: \")\n",
    "for plan in research_plan.plans:\n",
    "    print(f\"Plan: {plan}\")\n",
    "print(f\"Allocation: \")\n",
    "for task in allocation.allocation.tasks:\n",
    "    print(f\"Task: {task.description}\")\n",
    "    print(f\"Tools: {task.tools_to_use}\")\n",
    "    print(f\"Budget: {task.tool_budget}\")\n",
    "    print(f\"Complexity: {task.complexity}\")\n",
    "    print(f\"Depends On: {task.depends_on}\")\n",
    "print(f\"Subagent Results: \")\n",
    "for result in subagent_results:\n",
    "    print(f\"Task ID: {result.final_result.task_id}\")\n",
    "    print(f\"Summary: {result.final_result.summary}\")\n",
    "    print(f\"Finding: {result.final_result.finding}\")\n",
    "    print(f\"Debug Info: {result.final_result.debug_info}\")\n"
   ]
  },
  {
   "cell_type": "code",
   "execution_count": null,
   "metadata": {},
   "outputs": [],
   "source": []
  }
 ],
 "metadata": {
  "kernelspec": {
   "display_name": "Python 3 (ipykernel)",
   "language": "python",
   "name": "python3"
  },
  "language_info": {
   "codemirror_mode": {
    "name": "ipython",
    "version": 3
   },
   "file_extension": ".py",
   "mimetype": "text/x-python",
   "name": "python",
   "nbconvert_exporter": "python",
   "pygments_lexer": "ipython3",
   "version": "3.12.9"
  }
 },
 "nbformat": 4,
 "nbformat_minor": 4
}
