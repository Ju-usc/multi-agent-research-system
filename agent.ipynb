{
 "cells": [
  {
   "cell_type": "code",
   "execution_count": 1,
   "metadata": {},
   "outputs": [
    {
     "name": "stdout",
     "output_type": "stream",
     "text": [
      "3.0.0b1\n",
      "2.11.7\n",
      "1.88.0\n"
     ]
    }
   ],
   "source": [
    "import dspy\n",
    "import pydantic\n",
    "import openai\n",
    "print(dspy.__version__)\n",
    "print(pydantic.__version__)\n",
    "print(openai.__version__)"
   ]
  },
  {
   "cell_type": "code",
   "execution_count": 2,
   "metadata": {},
   "outputs": [
    {
     "name": "stdout",
     "output_type": "stream",
     "text": [
      "openrouter/google/gemini-2.5-flash-lite-preview-06-17\n",
      "1.0\n",
      "4000\n"
     ]
    }
   ],
   "source": [
    "# Config setup\n",
    "import os\n",
    "from dotenv import load_dotenv\n",
    "\n",
    "load_dotenv()\n",
    "\n",
    "OPENROUTER_API_KEY = os.getenv(\"OPENROUTER_API_KEY\")\n",
    "OPENROUTER_BASE_URL = os.getenv(\"OPENROUTER_BASE_URL\")\n",
    "MODEL = os.getenv(\"MODEL_NAME\")\n",
    "TEMPERATURE = os.getenv(\"TEMPERATURE\")\n",
    "MAX_TOKENS = os.getenv(\"MAX_TOKENS\")\n",
    "\n",
    "print(MODEL)\n",
    "print(TEMPERATURE)\n",
    "print(MAX_TOKENS)"
   ]
  },
  {
   "cell_type": "code",
   "execution_count": 3,
   "metadata": {},
   "outputs": [],
   "source": [
    "lm = dspy.LM(model=MODEL)"
   ]
  },
  {
   "cell_type": "code",
   "execution_count": 4,
   "metadata": {},
   "outputs": [],
   "source": [
    "import dspy\n",
    "dspy.configure(lm=lm)\n",
    "pred = dspy.Predict('query -> answer: str')"
   ]
  },
  {
   "cell_type": "code",
   "execution_count": 6,
   "metadata": {},
   "outputs": [
    {
     "data": {
      "text/plain": [
       "Prediction(\n",
       "    answer='Hello world! I am doing well, thank you for asking. How are you today?'\n",
       ")"
      ]
     },
     "execution_count": 6,
     "metadata": {},
     "output_type": "execute_result"
    }
   ],
   "source": [
    "pred(query=\"hello world how r u?\")"
   ]
  },
  {
   "cell_type": "code",
   "execution_count": 9,
   "metadata": {},
   "outputs": [],
   "source": [
    "# ---------- Minimal yet complete data-model scaffold (Pydantic) ----------\n",
    "\n",
    "from enum import Enum\n",
    "from typing import List, Dict, Optional, Literal\n",
    "from pydantic import BaseModel, Field\n",
    "\n",
    "\n",
    "class QueryAnalysis(BaseModel):\n",
    "    \"\"\"Analyze and break down the user's prompt to make sure you fully understand it. \"\"\"\n",
    "    query_type: Literal[\"depth_first\", \"breadth_first\", \"straightforward\"] = Field(description=\"The type of query to be answered\")\n",
    "    complexity: Literal[\"simple\", \"medium\", \"complex\"] = Field(description=\"The complexity of the query\")\n",
    "    main_concepts: List[str] = Field(description=\"Key concepts to research\")\n",
    "    key_entities: List[str] = Field(description=\"Important entities mentioned\")\n",
    "    relationships: List[str] = Field(description=\"Relationships in the task\")\n",
    "    notes: Optional[str] = Field(description=\"Any temporal or contextual constraints on the question\")\n",
    "    answer_format: Optional[str] = Field(description=\"The recommended format of the answer such as detailed report, a list of entities, an anlysis of different perspectives, etc.\")\n",
    "\n",
    "\n",
    "# 2) Lead-agent plan ------------------------------------------------------\n",
    "class PlanStep(BaseModel):\n",
    "    id: int\n",
    "    description: str\n",
    "    depends_on: List[int] = Field(default_factory=list)       # other step IDs\n",
    "    budget_calls: int = 5                                     # expected tool calls\n",
    "\n",
    "class ResearchPlan(BaseModel):\n",
    "    steps: List[PlanStep]\n",
    "\n",
    "# # 3) Sub-agent delegation & results --------------------------------------\n",
    "# class SubagentTask(BaseModel):\n",
    "#     id: int\n",
    "#     step_id: int                                              # link back to PlanStep\n",
    "#     objective: str\n",
    "#     expected_output: Optional[str] = None\n",
    "#     status: Literal[\"pending\", \"in_progress\", \"completed\", \"failed\"] = \"pending\"\n",
    "\n",
    "# class SubagentResult(BaseModel):\n",
    "#     task_id: int\n",
    "#     findings: str\n",
    "#     summary: str\n",
    "#     sources: List[str] = Field(default_factory=list)\n",
    "#     source_quality: Optional[Literal[\"high\", \"medium\", \"low\"]] = None\n",
    "#     notes: Optional[str] = None\n",
    "\n",
    "# # 4) Final synthesis ------------------------------------------------------\n",
    "# class ResearchReport(BaseModel):\n",
    "#     query: str\n",
    "#     synthesis: str\n",
    "#     analyses: Dict[str, str] = Field(default_factory=dict)\n",
    "#     summary: str\n",
    "#     total_tool_calls: int\n",
    "#     gap_analysis: str"
   ]
  },
  {
   "cell_type": "code",
   "execution_count": 21,
   "metadata": {},
   "outputs": [],
   "source": [
    "# DSPY SIGNATURE\n",
    "\n",
    "class AnalyzeQuery(dspy.Signature):\n",
    "    \"\"\"Analyze a user query to determine research approach.\"\"\"\n",
    "    query: str = dspy.InputField(desc=\"The user's research query\")\n",
    "    analysis: QueryAnalysis = dspy.OutputField(desc=\"Comprehensive query analysis\")\n",
    "\n",
    "class PlanResearch(dspy.Signature):\n",
    "    \"\"\"Create a research plan based on query analysis.\"\"\"\n",
    "    query: str = dspy.InputField(desc=\"The user's research query\")\n",
    "    analysis: QueryAnalysis = dspy.InputField(desc=\"Comprehensive query analysis\")\n",
    "    plan: ResearchPlan = dspy.OutputField(desc=\"Detailed research plan\")"
   ]
  },
  {
   "cell_type": "code",
   "execution_count": 22,
   "metadata": {},
   "outputs": [],
   "source": [
    "import dspy\n",
    "\n",
    "\n",
    "\n",
    "\n",
    "# class MultiAgentSystem(dspy.Module):\n",
    "#     def __init__(self):\n",
    "#         self.planner = dspy.ChainOfThought()\n",
    "\n",
    "query_analysis = dspy.ChainOfThought(AnalyzeQuery)\n",
    "research_plan = dspy.ChainOfThought(PlanResearch)"
   ]
  },
  {
   "cell_type": "code",
   "execution_count": 17,
   "metadata": {},
   "outputs": [],
   "source": [
    "\n",
    "pred = query_analysis(query = \"Compare all the major frontend frameworks based on performance, learning curve, ecosystem, and industry adoption\")"
   ]
  },
  {
   "cell_type": "code",
   "execution_count": 27,
   "metadata": {},
   "outputs": [],
   "source": [
    "# Use the research_plan module that was already created\n",
    "plan_result = research_plan(query=\"What is the capital of France?\", analysis=pred.analysis)"
   ]
  }
 ],
 "metadata": {
  "kernelspec": {
   "display_name": "Python 3 (ipykernel)",
   "language": "python",
   "name": "python3"
  },
  "language_info": {
   "codemirror_mode": {
    "name": "ipython",
    "version": 3
   },
   "file_extension": ".py",
   "mimetype": "text/x-python",
   "name": "python",
   "nbconvert_exporter": "python",
   "pygments_lexer": "ipython3",
   "version": "3.12.9"
  }
 },
 "nbformat": 4,
 "nbformat_minor": 2
}
